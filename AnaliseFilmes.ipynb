{
 "cells": [
  {
   "cell_type": "markdown",
   "metadata": {},
   "source": [
    "# Três décadas de filmes"
   ]
  },
  {
   "cell_type": "markdown",
   "metadata": {},
   "source": [
    "# Importando dados"
   ]
  },
  {
   "cell_type": "code",
   "execution_count": 1,
   "metadata": {},
   "outputs": [],
   "source": [
    "import numpy as np\n",
    "import pandas as pd\n",
    "import matplotlib.pyplot as plt\n",
    "import seaborn as sb"
   ]
  },
  {
   "cell_type": "code",
   "execution_count": 2,
   "metadata": {},
   "outputs": [],
   "source": [
    "filmes = pd.read_csv('movies.csv')"
   ]
  },
  {
   "cell_type": "code",
   "execution_count": 3,
   "metadata": {},
   "outputs": [
    {
     "data": {
      "text/html": [
       "<div>\n",
       "<style scoped>\n",
       "    .dataframe tbody tr th:only-of-type {\n",
       "        vertical-align: middle;\n",
       "    }\n",
       "\n",
       "    .dataframe tbody tr th {\n",
       "        vertical-align: top;\n",
       "    }\n",
       "\n",
       "    .dataframe thead th {\n",
       "        text-align: right;\n",
       "    }\n",
       "</style>\n",
       "<table border=\"1\" class=\"dataframe\">\n",
       "  <thead>\n",
       "    <tr style=\"text-align: right;\">\n",
       "      <th></th>\n",
       "      <th>budget</th>\n",
       "      <th>company</th>\n",
       "      <th>country</th>\n",
       "      <th>director</th>\n",
       "      <th>genre</th>\n",
       "      <th>gross</th>\n",
       "      <th>name</th>\n",
       "      <th>rating</th>\n",
       "      <th>released</th>\n",
       "      <th>runtime</th>\n",
       "      <th>score</th>\n",
       "      <th>star</th>\n",
       "      <th>votes</th>\n",
       "      <th>writer</th>\n",
       "      <th>year;</th>\n",
       "    </tr>\n",
       "  </thead>\n",
       "  <tbody>\n",
       "    <tr>\n",
       "      <th>0</th>\n",
       "      <td>8000000.0</td>\n",
       "      <td>Columbia Pictures Corporation</td>\n",
       "      <td>USA</td>\n",
       "      <td>Rob Reiner</td>\n",
       "      <td>Adventure</td>\n",
       "      <td>52287414.0</td>\n",
       "      <td>Stand by Me</td>\n",
       "      <td>R</td>\n",
       "      <td>1986-08-22</td>\n",
       "      <td>89.0</td>\n",
       "      <td>8.1</td>\n",
       "      <td>Wil Wheaton</td>\n",
       "      <td>299174.0</td>\n",
       "      <td>Stephen King</td>\n",
       "      <td>1986;</td>\n",
       "    </tr>\n",
       "    <tr>\n",
       "      <th>1</th>\n",
       "      <td>6000000.0</td>\n",
       "      <td>Paramount Pictures</td>\n",
       "      <td>USA</td>\n",
       "      <td>John Hughes</td>\n",
       "      <td>Comedy</td>\n",
       "      <td>70136369.0</td>\n",
       "      <td>Ferris Bueller's Day Off</td>\n",
       "      <td>PG-13</td>\n",
       "      <td>1986-06-11</td>\n",
       "      <td>103.0</td>\n",
       "      <td>7.8</td>\n",
       "      <td>Matthew Broderick</td>\n",
       "      <td>264740.0</td>\n",
       "      <td>John Hughes</td>\n",
       "      <td>1986;</td>\n",
       "    </tr>\n",
       "    <tr>\n",
       "      <th>2</th>\n",
       "      <td>15000000.0</td>\n",
       "      <td>Paramount Pictures</td>\n",
       "      <td>USA</td>\n",
       "      <td>Tony Scott</td>\n",
       "      <td>Action</td>\n",
       "      <td>179800601.0</td>\n",
       "      <td>Top Gun</td>\n",
       "      <td>PG</td>\n",
       "      <td>1986-05-16</td>\n",
       "      <td>110.0</td>\n",
       "      <td>6.9</td>\n",
       "      <td>Tom Cruise</td>\n",
       "      <td>236909.0</td>\n",
       "      <td>Jim Cash</td>\n",
       "      <td>1986;</td>\n",
       "    </tr>\n",
       "    <tr>\n",
       "      <th>3</th>\n",
       "      <td>18500000.0</td>\n",
       "      <td>Twentieth Century Fox Film Corporation</td>\n",
       "      <td>USA</td>\n",
       "      <td>James Cameron</td>\n",
       "      <td>Action</td>\n",
       "      <td>85160248.0</td>\n",
       "      <td>Aliens</td>\n",
       "      <td>R</td>\n",
       "      <td>1986-07-18</td>\n",
       "      <td>137.0</td>\n",
       "      <td>8.4</td>\n",
       "      <td>Sigourney Weaver</td>\n",
       "      <td>540152.0</td>\n",
       "      <td>James Cameron</td>\n",
       "      <td>1986;</td>\n",
       "    </tr>\n",
       "    <tr>\n",
       "      <th>4</th>\n",
       "      <td>9000000.0</td>\n",
       "      <td>Walt Disney Pictures</td>\n",
       "      <td>USA</td>\n",
       "      <td>Randal Kleiser</td>\n",
       "      <td>Adventure</td>\n",
       "      <td>18564613.0</td>\n",
       "      <td>Flight of the Navigator</td>\n",
       "      <td>PG</td>\n",
       "      <td>1986-08-01</td>\n",
       "      <td>90.0</td>\n",
       "      <td>6.9</td>\n",
       "      <td>Joey Cramer</td>\n",
       "      <td>36636.0</td>\n",
       "      <td>Mark H. Baker</td>\n",
       "      <td>1986;</td>\n",
       "    </tr>\n",
       "  </tbody>\n",
       "</table>\n",
       "</div>"
      ],
      "text/plain": [
       "       budget                                 company country        director  \\\n",
       "0   8000000.0           Columbia Pictures Corporation     USA      Rob Reiner   \n",
       "1   6000000.0                      Paramount Pictures     USA     John Hughes   \n",
       "2  15000000.0                      Paramount Pictures     USA      Tony Scott   \n",
       "3  18500000.0  Twentieth Century Fox Film Corporation     USA   James Cameron   \n",
       "4   9000000.0                    Walt Disney Pictures     USA  Randal Kleiser   \n",
       "\n",
       "       genre        gross                      name rating    released  \\\n",
       "0  Adventure   52287414.0               Stand by Me      R  1986-08-22   \n",
       "1     Comedy   70136369.0  Ferris Bueller's Day Off  PG-13  1986-06-11   \n",
       "2     Action  179800601.0                   Top Gun     PG  1986-05-16   \n",
       "3     Action   85160248.0                    Aliens      R  1986-07-18   \n",
       "4  Adventure   18564613.0   Flight of the Navigator     PG  1986-08-01   \n",
       "\n",
       "   runtime  score               star     votes         writer  year;  \n",
       "0     89.0    8.1        Wil Wheaton  299174.0   Stephen King  1986;  \n",
       "1    103.0    7.8  Matthew Broderick  264740.0    John Hughes  1986;  \n",
       "2    110.0    6.9         Tom Cruise  236909.0       Jim Cash  1986;  \n",
       "3    137.0    8.4   Sigourney Weaver  540152.0  James Cameron  1986;  \n",
       "4     90.0    6.9        Joey Cramer   36636.0  Mark H. Baker  1986;  "
      ]
     },
     "execution_count": 3,
     "metadata": {},
     "output_type": "execute_result"
    }
   ],
   "source": [
    "filmes.head()"
   ]
  },
  {
   "cell_type": "markdown",
   "metadata": {},
   "source": [
    "# Removendo dados"
   ]
  },
  {
   "cell_type": "code",
   "execution_count": 4,
   "metadata": {},
   "outputs": [],
   "source": [
    "colunas=['budget','gross', 'rating', 'company', 'director', 'name', 'runtime', 'star', 'votes', 'writer']\n",
    "filmes.drop(columns=colunas, inplace=True)"
   ]
  },
  {
   "cell_type": "markdown",
   "metadata": {},
   "source": [
    "# Lista de colunas"
   ]
  },
  {
   "cell_type": "code",
   "execution_count": 5,
   "metadata": {},
   "outputs": [
    {
     "data": {
      "text/plain": [
       "Index(['country', 'genre', 'released', 'score', 'year;'], dtype='object')"
      ]
     },
     "execution_count": 5,
     "metadata": {},
     "output_type": "execute_result"
    }
   ],
   "source": [
    "filmes.columns"
   ]
  },
  {
   "cell_type": "markdown",
   "metadata": {},
   "source": [
    "# Países que mais produzem filmes"
   ]
  },
  {
   "cell_type": "code",
   "execution_count": 6,
   "metadata": {},
   "outputs": [
    {
     "name": "stdout",
     "output_type": "stream",
     "text": [
      "['USA' 'UK' 'Australia' nan 'Italy' 'France' 'Sweden' 'Japan' 'Spain'\n",
      " 'Switzerland' 'Canada' 'Israel' 'Netherlands' 'Argentina' 'Denmark'\n",
      " 'West Germany' 'Belgium' 'Ireland' 'South Africa' 'Hong Kong' 'Hungary'\n",
      " 'Iran' 'New Zealand' 'Germany' 'China' 'Peru' 'Soviet Union' 'Mexico'\n",
      " 'Brazil' 'Taiwan' 'India' 'Austria' 'Portugal' 'Cuba'\n",
      " 'Republic of Macedonia' 'Russia' 'Greece' 'Norway' 'Romania' 'Jamaica'\n",
      " 'Aruba' 'Czech Republic' 'South Korea' 'Finland' 'Thailand' 'Colombia'\n",
      " 'Palestine' 'Indonesia' 'Saudi Arabia' 'Chile' 'Poland' 'Kenya' 'Bahamas'\n",
      " 'Ukraine' 'Iceland' 'Malta' 'Panama']\n"
     ]
    }
   ],
   "source": [
    "plt.style.use(\"ggplot\")\n",
    "print(filmes['country'].unique())"
   ]
  },
  {
   "cell_type": "markdown",
   "metadata": {},
   "source": [
    "# Valores de cada país"
   ]
  },
  {
   "cell_type": "code",
   "execution_count": 7,
   "metadata": {},
   "outputs": [
    {
     "name": "stdout",
     "output_type": "stream",
     "text": [
      "USA                      4771\n",
      "UK                        678\n",
      "France                    277\n",
      "Canada                    147\n",
      "Germany                   131\n",
      "Australia                  76\n",
      "Japan                      67\n",
      "Italy                      51\n",
      "Spain                      45\n",
      "Ireland                    44\n",
      "Hong Kong                  38\n",
      "India                      38\n",
      "Denmark                    33\n",
      "China                      24\n",
      "South Korea                19\n",
      "Sweden                     18\n",
      "New Zealand                18\n",
      "Belgium                    17\n",
      "Mexico                     15\n",
      "Argentina                  12\n",
      "Iran                       12\n",
      "Netherlands                11\n",
      "South Africa                9\n",
      "Russia                      9\n",
      "Czech Republic              8\n",
      "Norway                      8\n",
      "Hungary                     7\n",
      "Taiwan                      6\n",
      "Austria                     6\n",
      "Switzerland                 6\n",
      "Brazil                      5\n",
      "Greece                      5\n",
      "Israel                      5\n",
      "Chile                       4\n",
      "West Germany                4\n",
      "Romania                     4\n",
      "Thailand                    3\n",
      "Finland                     3\n",
      "Poland                      2\n",
      "Colombia                    2\n",
      "Peru                        2\n",
      "Portugal                    2\n",
      "Indonesia                   2\n",
      "Palestine                   1\n",
      "Ukraine                     1\n",
      "Saudi Arabia                1\n",
      "Republic of Macedonia       1\n",
      "Panama                      1\n",
      "Iceland                     1\n",
      "Jamaica                     1\n",
      "Cuba                        1\n",
      "Malta                       1\n",
      "Bahamas                     1\n",
      "Aruba                       1\n",
      "Soviet Union                1\n",
      "Kenya                       1\n",
      "Name: country, dtype: int64\n"
     ]
    }
   ],
   "source": [
    "print(filmes['country'].value_counts())"
   ]
  },
  {
   "cell_type": "code",
   "execution_count": 22,
   "metadata": {},
   "outputs": [
    {
     "data": {
      "text/plain": [
       "array([<matplotlib.axes._subplots.AxesSubplot object at 0x000002C1910D4710>],\n",
       "      dtype=object)"
      ]
     },
     "execution_count": 22,
     "metadata": {},
     "output_type": "execute_result"
    },
    {
     "data": {
      "image/png": "[encoded data removed]",
      "text/plain": [
       "<Figure size 504x1080 with 1 Axes>"
      ]
     },
     "metadata": {},
     "output_type": "display_data"
    }
   ],
   "source": [
    "filmes['country'].value_counts().plot(kind='barh', subplots=True, label=\"\", title=\"Países que mais produziram filmes em três décadas\", figsize=(7,15))"
   ]
  },
  {
   "cell_type": "code",
   "execution_count": null,
   "metadata": {},
   "outputs": [],
   "source": []
  }
 ],
 "metadata": {
  "kernelspec": {
   "display_name": "Python 3",
   "language": "python",
   "name": "python3"
  },
  "language_info": {
   "codemirror_mode": {
    "name": "ipython",
    "version": 3
   },
   "file_extension": ".py",
   "mimetype": "text/x-python",
   "name": "python",
   "nbconvert_exporter": "python",
   "pygments_lexer": "ipython3",
   "version": "3.7.3"
  }
 },
 "nbformat": 4,
 "nbformat_minor": 2
}
